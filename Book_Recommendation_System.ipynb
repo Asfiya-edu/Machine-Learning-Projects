{
  "nbformat": 4,
  "nbformat_minor": 0,
  "metadata": {
    "colab": {
      "private_outputs": true,
      "provenance": [],
      "collapsed_sections": [
        "mDgbUHAGgjLW",
        "PBTbrJXOngz2",
        "tEA2Xm5dHt1r",
        "hwyV_J3ipUZe",
        "3yB-zSqbpUZe",
        "dEUvejAfpUZe",
        "Fd15vwWVpUZf",
        "49K5P_iCpZyH",
        "Nff-vKELpZyI",
        "kLW572S8pZyI",
        "dWbDXHzopZyI",
        "KH5McJBi2d8v",
        "iW_Lq9qf2h6X",
        "-Kee-DAl2viO",
        "gIfDvo9L0UH2"
      ],
      "toc_visible": true,
      "include_colab_link": true
    },
    "kernelspec": {
      "name": "python3",
      "display_name": "Python 3"
    },
    "language_info": {
      "name": "python"
    }
  },
  "cells": [
    {
      "cell_type": "markdown",
      "metadata": {
        "id": "view-in-github",
        "colab_type": "text"
      },
      "source": [
        "<a href=\"https://colab.research.google.com/github/Asfiya-edu/Machine-Learning-Projects/blob/main/Book_Recommendation_System.ipynb\" target=\"_parent\"><img src=\"https://colab.research.google.com/assets/colab-badge.svg\" alt=\"Open In Colab\"/></a>"
      ]
    },
    {
      "cell_type": "markdown",
      "source": [
        "# **Project Name**    -  **Book Recommendation System**\n",
        "\n"
      ],
      "metadata": {
        "id": "vncDsAP0Gaoa"
      }
    },
    {
      "cell_type": "markdown",
      "source": [
        "##### **Project Type**    - Unsupervised/ Recommendation\n",
        "##### **Contribution**    - Individual\n"
      ],
      "metadata": {
        "id": "beRrZCGUAJYm"
      }
    },
    {
      "cell_type": "markdown",
      "source": [
        "# **Project Summary -**"
      ],
      "metadata": {
        "id": "FJNUwmbgGyua"
      }
    },
    {
      "cell_type": "markdown",
      "source": [
        "The Book Recommendation System project focuses on creating an interactive and personalized experience for users in exploring a digital library. The system employs a Nearest Neighbors model, incorporating a combination of popularity metrics and average ratings to generate book recommendations. This interactive system allows users to select a book of interest, and in return, it dynamically provides suggestions based on similar user preferences.\n",
        "\n",
        "## **Implementation Overview:**\n",
        "The project begins by selecting relevant features for recommendation, specifically focusing on the number of ratings and average ratings for each book. To ensure scalability and relevance, these features are then scaled using MinMaxScaler. The Nearest Neighbors model is chosen for its simplicity and effectiveness in identifying similar items based on their feature vectors. The model is trained using the scaled features, allowing it to quickly retrieve the nearest neighbors for a given book.\n",
        "\n",
        "## **User Interaction:**\n",
        "The heart of the project lies in the interactive aspect of the recommendation system. Through the use of widgets and the `interact` function, users can select a book title from a dropdown menu, triggering the recommendation engine to provide a list of similar books. This dynamic interaction enhances user engagement and encourages exploration within the digital library.\n",
        "\n",
        "## **Conclusion:**\n",
        "The implemented book recommendation system successfully achieves its primary goal of providing personalized book suggestions. By combining popularity metrics and average ratings, the system caters to diverse user preferences, contributing to a more enriching reading experience. The interactivity ensures that recommendations align with the specific interests of each user.\n",
        "\n",
        "## **Future Steps and Business Impact:**\n",
        "The project lays the groundwork for further improvements and optimizations. Incorporating additional factors such as user demographics, reading history, or genre preferences could enhance recommendation accuracy. Continuous monitoring of system performance, coupled with user feedback, will be essential for refining algorithms and ensuring user satisfaction.\n",
        "\n",
        "From a business perspective, the recommendation system holds significant potential. As users receive personalized suggestions, their engagement with the digital library is likely to increase. This heightened engagement can translate into longer user sessions, increased book interactions, and potentially higher revenue through book purchases or subscriptions.\n",
        "\n",
        "# **Further Recommendations:**\n",
        "To propel the recommendation system to the next level, collaboration with data scientists and user experience experts is recommended. Advanced recommendation algorithms, machine learning techniques, and real-time user feedback mechanisms can be explored. This iterative approach aligns with the business objective of delivering a comprehensive and personalized user experience.\n",
        "\n",
        "In conclusion, the Book Recommendation System project represents a valuable step towards creating a more engaging and tailored user experience within the digital library. As the system evolves, incorporating advanced techniques and user-centric enhancements, it has the potential to not only meet but exceed user expectations. The continuous refinement of algorithms and features will contribute to a positive business impact, fostering sustained user engagement and satisfaction."
      ],
      "metadata": {
        "id": "F6v_1wHtG2nS"
      }
    },
    {
      "cell_type": "markdown",
      "source": [
        "# **GitHub Link -**"
      ],
      "metadata": {
        "id": "w6K7xa23Elo4"
      }
    },
    {
      "cell_type": "markdown",
      "source": [
        "https://github.com/Asfiya-edu/Book-Recommendation-System.git"
      ],
      "metadata": {
        "id": "h1o69JH3Eqqn"
      }
    },
    {
      "cell_type": "markdown",
      "source": [
        "# **Problem Statement**\n"
      ],
      "metadata": {
        "id": "yQaldy8SH6Dl"
      }
    },
    {
      "cell_type": "markdown",
      "source": [
        "\n",
        "In the digital era, users often face the overwhelming task of navigating vast libraries to discover books aligned with their preferences. Traditional search methods may not capture the nuanced interests of individual users, leading to a less-than-optimal user experience. The absence of a robust recommendation system results in missed opportunities for prolonged user engagement and potential revenue generation for the digital library platform.\n",
        "\n",
        "**Key Challenges:**\n",
        "1. **Inefficient Discovery:** Users may struggle to efficiently discover books that match their unique preferences, leading to frustration and a potential decline in engagement.\n",
        "\n",
        "2. **Limited Personalization:** Traditional recommendation systems may lack the depth needed to provide highly personalized suggestions, hindering the creation of a tailored user experience.\n",
        "\n",
        "3. **Underutilized Library:** A vast digital library is a valuable asset, but without an effective recommendation system, many books may go unnoticed, limiting the library's full potential.\n",
        "\n",
        "**Objectives:**\n",
        "1. **Personalized Recommendations:** Develop a recommendation system that considers both popularity metrics and average ratings to generate personalized book suggestions for users.\n",
        "\n",
        "2. **User Engagement:** Enhance user engagement by providing an interactive platform where users can explore recommendations based on their book preferences.\n",
        "\n",
        "3. **Business Impact:** Implement features that contribute to positive business outcomes, such as increased user sessions, prolonged interaction with the digital library, and potential revenue growth.\n"
      ],
      "metadata": {
        "id": "DpeJGUA3kjGy"
      }
    },
    {
      "cell_type": "markdown",
      "source": [
        "# **General Guidelines** : -  "
      ],
      "metadata": {
        "id": "mDgbUHAGgjLW"
      }
    },
    {
      "cell_type": "markdown",
      "source": [
        "1.   Well-structured, formatted, and commented code is required.\n",
        "2.   Exception Handling, Production Grade Code & Deployment Ready Code will be a plus. Those students will be awarded some additional credits.\n",
        "     \n",
        "     The additional credits will have advantages over other students during Star Student selection.\n",
        "       \n",
        "             [ Note: - Deployment Ready Code is defined as, the whole .ipynb notebook should be executable in one go\n",
        "                       without a single error logged. ]\n",
        "\n",
        "3.   Each and every logic should have proper comments.\n",
        "4. You may add as many number of charts you want. Make Sure for each and every chart the following format should be answered.\n",
        "        \n",
        "\n",
        "```\n",
        "# Chart visualization code\n",
        "```\n",
        "            \n",
        "\n",
        "*   Why did you pick the specific chart?\n",
        "*   What is/are the insight(s) found from the chart?\n",
        "* Will the gained insights help creating a positive business impact?\n",
        "Are there any insights that lead to negative growth? Justify with specific reason.\n",
        "\n",
        "5. You have to create at least 15 logical & meaningful charts having important insights.\n",
        "\n",
        "\n",
        "[ Hints : - Do the Vizualization in  a structured way while following \"UBM\" Rule.\n",
        "\n",
        "U - Univariate Analysis,\n",
        "\n",
        "B - Bivariate Analysis (Numerical - Categorical, Numerical - Numerical, Categorical - Categorical)\n",
        "\n",
        "M - Multivariate Analysis\n",
        " ]\n",
        "\n",
        "\n",
        "\n",
        "\n",
        "\n",
        "6. You may add more ml algorithms for model creation. Make sure for each and every algorithm, the following format should be answered.\n",
        "\n",
        "\n",
        "*   Explain the ML Model used and it's performance using Evaluation metric Score Chart.\n",
        "\n",
        "\n",
        "*   Cross- Validation & Hyperparameter Tuning\n",
        "\n",
        "*   Have you seen any improvement? Note down the improvement with updates Evaluation metric Score Chart.\n",
        "\n",
        "*   Explain each evaluation metric's indication towards business and the business impact pf the ML model used.\n",
        "\n",
        "\n",
        "\n",
        "\n",
        "\n",
        "\n",
        "\n",
        "\n",
        "\n",
        "\n",
        "\n",
        "\n",
        "\n",
        "\n",
        "\n",
        "\n",
        "\n",
        "\n"
      ],
      "metadata": {
        "id": "ZrxVaUj-hHfC"
      }
    },
    {
      "cell_type": "markdown",
      "source": [
        "# ***Let's Begin !***"
      ],
      "metadata": {
        "id": "O_i_v8NEhb9l"
      }
    },
    {
      "cell_type": "markdown",
      "source": [
        "## ***1. Know Your Data***"
      ],
      "metadata": {
        "id": "HhfV-JJviCcP"
      }
    },
    {
      "cell_type": "markdown",
      "source": [
        "### Import Libraries"
      ],
      "metadata": {
        "id": "Y3lxredqlCYt"
      }
    },
    {
      "cell_type": "code",
      "source": [
        "# Import Libraries\n",
        "import numpy as np\n",
        "import pandas as pd\n",
        "import matplotlib.pyplot as plt\n",
        "%matplotlib inline\n",
        "from datetime import datetime\n",
        "import seaborn as sns\n",
        "from google.colab import drive\n",
        "drive.mount('/content/drive')\n",
        "\n",
        "from sklearn.preprocessing import StandardScaler\n",
        "from sklearn.preprocessing import LabelEncoder\n",
        "from sklearn.feature_extraction import FeatureHasher\n",
        "from sklearn.model_selection import train_test_split\n",
        "from sklearn.cluster import KMeans\n",
        "from sklearn.model_selection import GridSearchCV\n",
        "\n",
        "from sklearn.metrics import silhouette_score\n",
        "import warnings\n",
        "warnings.filterwarnings(\"ignore\", category=FutureWarning)\n",
        "\n",
        "import scipy.stats as stats"
      ],
      "metadata": {
        "id": "M8Vqi-pPk-HR"
      },
      "execution_count": null,
      "outputs": []
    },
    {
      "cell_type": "markdown",
      "source": [
        "### Dataset Loading"
      ],
      "metadata": {
        "id": "3RnN4peoiCZX"
      }
    },
    {
      "cell_type": "code",
      "source": [
        "# Load Dataset\n",
        "filepath1= \"/content/drive/MyDrive/alma better/Books.csv\"\n",
        "filepath2= \"/content/drive/MyDrive/alma better/Ratings.csv\"\n",
        "filepath3= \"/content/drive/MyDrive/alma better/Users.csv\"\n",
        "\n",
        "books = pd.read_csv(filepath1)\n",
        "ratings = pd.read_csv(filepath2)\n",
        "users = pd.read_csv(filepath3)"
      ],
      "metadata": {
        "id": "4CkvbW_SlZ_R"
      },
      "execution_count": null,
      "outputs": []
    },
    {
      "cell_type": "markdown",
      "source": [
        "### Dataset First View"
      ],
      "metadata": {
        "id": "x71ZqKXriCWQ"
      }
    },
    {
      "cell_type": "code",
      "source": [
        "# Dataset First Look\n",
        "books.head()"
      ],
      "metadata": {
        "id": "LWNFOSvLl09H"
      },
      "execution_count": null,
      "outputs": []
    },
    {
      "cell_type": "code",
      "source": [
        "ratings.head()"
      ],
      "metadata": {
        "id": "Tl0Ct0IzDFj_"
      },
      "execution_count": null,
      "outputs": []
    },
    {
      "cell_type": "code",
      "source": [
        "users.head()"
      ],
      "metadata": {
        "id": "R1Enb-cbDFfu"
      },
      "execution_count": null,
      "outputs": []
    },
    {
      "cell_type": "markdown",
      "source": [
        "### Dataset Rows & Columns count"
      ],
      "metadata": {
        "id": "7hBIi_osiCS2"
      }
    },
    {
      "cell_type": "code",
      "source": [
        "# Dataset Rows & Columns count\n",
        "print(\"Rows and columns in books dataset: \", books.shape)\n",
        "print(\"Rows and columns in ratings dataset: \", ratings.shape)\n",
        "print(\"Rows and columns in users dataset: \", users.shape)"
      ],
      "metadata": {
        "id": "Kllu7SJgmLij"
      },
      "execution_count": null,
      "outputs": []
    },
    {
      "cell_type": "markdown",
      "source": [
        "### Dataset Information"
      ],
      "metadata": {
        "id": "JlHwYmJAmNHm"
      }
    },
    {
      "cell_type": "code",
      "source": [
        "# Dataset Info\n",
        "books.info()"
      ],
      "metadata": {
        "id": "e9hRXRi6meOf"
      },
      "execution_count": null,
      "outputs": []
    },
    {
      "cell_type": "code",
      "source": [
        "ratings.info()"
      ],
      "metadata": {
        "id": "ylmlHO4TEYn-"
      },
      "execution_count": null,
      "outputs": []
    },
    {
      "cell_type": "code",
      "source": [
        "users.info()"
      ],
      "metadata": {
        "id": "AnaHZooMEYkd"
      },
      "execution_count": null,
      "outputs": []
    },
    {
      "cell_type": "markdown",
      "source": [
        "#### Duplicate Values"
      ],
      "metadata": {
        "id": "35m5QtbWiB9F"
      }
    },
    {
      "cell_type": "code",
      "source": [
        "# Dataset Duplicate Value Count\n",
        "# Function to find duplicates in a dataframe\n",
        "def find_duplicates(df):\n",
        "    duplicate_rows = len(df[df.duplicated()])\n",
        "    return duplicate_rows\n",
        "\n",
        "# Find duplicates in books based\n",
        "duplicate_books = find_duplicates(books)\n",
        "print(\"Duplicate Books:\")\n",
        "print(duplicate_books)\n",
        "\n",
        "# Find duplicates in ratings based\n",
        "duplicate_ratings = find_duplicates(ratings)\n",
        "print(\"\\nDuplicate Ratings:\")\n",
        "print(duplicate_ratings)\n",
        "\n",
        "# Find duplicates in users\n",
        "duplicate_users = find_duplicates(users)\n",
        "print(\"\\nDuplicate Users:\")\n",
        "print(duplicate_users)"
      ],
      "metadata": {
        "id": "1sLdpKYkmox0"
      },
      "execution_count": null,
      "outputs": []
    },
    {
      "cell_type": "markdown",
      "source": [
        "#### Missing Values/Null Values"
      ],
      "metadata": {
        "id": "PoPl-ycgm1ru"
      }
    },
    {
      "cell_type": "code",
      "source": [
        "def find_missing_values(df):\n",
        "    \"\"\"\n",
        "    Find missing values in a DataFrame and return a DataFrame showing columns with missing values\n",
        "    and the corresponding count of missing values.\n",
        "\n",
        "    Parameters:\n",
        "    - df: DataFrame\n",
        "\n",
        "    Returns:\n",
        "    - missing_values_df: DataFrame\n",
        "    \"\"\"\n",
        "    # Count the missing values for each column\n",
        "    missing_values = df.isnull().sum()\n",
        "\n",
        "    # Create a DataFrame to display missing values information\n",
        "    missing_values_df = pd.DataFrame({\n",
        "        'Column': missing_values.index,\n",
        "        'Missing Values': missing_values.values,\n",
        "        'Percentage': (missing_values / len(df)) * 100\n",
        "    })\n",
        "\n",
        "    # Filter columns with missing values\n",
        "    missing_values_df = missing_values_df[missing_values_df['Missing Values'] > 0]\n",
        "\n",
        "    return missing_values_df\n",
        "\n",
        "books_missing_values = find_missing_values(books)\n",
        "books_missing_values"
      ],
      "metadata": {
        "id": "MQnyV6XVHhIc"
      },
      "execution_count": null,
      "outputs": []
    },
    {
      "cell_type": "code",
      "source": [
        "ratings_missing_values = find_missing_values(ratings)\n",
        "ratings_missing_values"
      ],
      "metadata": {
        "id": "sM50NkWJIFFD"
      },
      "execution_count": null,
      "outputs": []
    },
    {
      "cell_type": "code",
      "source": [
        "users_missing_values = find_missing_values(users)\n",
        "users_missing_values"
      ],
      "metadata": {
        "id": "F7RrtKTUIFBK"
      },
      "execution_count": null,
      "outputs": []
    },
    {
      "cell_type": "code",
      "source": [
        "print(\"books missing values: \",books_missing_values)\n",
        "print(\"ratings missing values\",ratings_missing_values)\n",
        "print(\"users missing values\",users_missing_values)"
      ],
      "metadata": {
        "id": "CmXo-IcWKbEL"
      },
      "execution_count": null,
      "outputs": []
    },
    {
      "cell_type": "code",
      "source": [
        "# Visualizing the missing values\n",
        "sns.heatmap(users.isnull(), cbar=False)"
      ],
      "metadata": {
        "id": "3q5wnI3om9sJ"
      },
      "execution_count": null,
      "outputs": []
    },
    {
      "cell_type": "markdown",
      "source": [
        "### What did you know about your dataset?"
      ],
      "metadata": {
        "id": "H0kj-8xxnORC"
      }
    },
    {
      "cell_type": "markdown",
      "source": [
        "**Dataset Overview for Books Recommendation System:**\n",
        "\n",
        "1. **Dataset Size:**\n",
        "   - Books Dataset: 271,360 rows, 8 columns\n",
        "   - Ratings Dataset: 1,149,780 rows, 3 columns\n",
        "   - Users Dataset: 278,858 rows, 3 columns\n",
        "\n",
        "2. **Duplicate Values:**\n",
        "   - Duplicate Books: 0\n",
        "   - Duplicate Ratings: 0\n",
        "   - Duplicate Users: 0\n",
        "\n",
        "3. **Missing Values:**\n",
        "   - Books Dataset:\n",
        "      - Book-Author: 1 missing value (0.0004%)\n",
        "      - Publisher: 2 missing values (0.0007%)\n",
        "      - Image-URL-L: 3 missing values (0.0011%)\n",
        "   - Users Dataset:\n",
        "      - Age: 110,762 missing values (39.72%)\n",
        "\n",
        "**Conclusion:**\n",
        "   The dataset for the Books Recommendation System appears to be substantial, with a considerable number of users. There are minimal missing values in the books dataset, primarily in non-critical columns like Book-Author, Publisher, and Image-URL-L. However, the users dataset has a significant percentage of missing values in the Age column (39.72%). No duplicate values were found, ensuring data integrity. Further exploration and preprocessing will be essential, especially addressing missing age values in the users dataset for a more robust recommendation system."
      ],
      "metadata": {
        "id": "gfoNAAC-nUe_"
      }
    },
    {
      "cell_type": "markdown",
      "source": [
        "## ***2. Understanding Your Variables***"
      ],
      "metadata": {
        "id": "nA9Y7ga8ng1Z"
      }
    },
    {
      "cell_type": "code",
      "source": [
        "# Dataset Columns\n",
        "def label_columns(df):\n",
        "  print(df.columns)\n",
        "\n",
        "label_columns(books)\n",
        "label_columns(ratings)\n",
        "label_columns(users)"
      ],
      "metadata": {
        "id": "j7xfkqrt5Ag5"
      },
      "execution_count": null,
      "outputs": []
    },
    {
      "cell_type": "code",
      "source": [
        "# Dataset Describe\n",
        "books.describe()"
      ],
      "metadata": {
        "id": "DnOaZdaE5Q5t"
      },
      "execution_count": null,
      "outputs": []
    },
    {
      "cell_type": "code",
      "source": [
        "ratings.describe()"
      ],
      "metadata": {
        "id": "dLEKIe6INvUV"
      },
      "execution_count": null,
      "outputs": []
    },
    {
      "cell_type": "code",
      "source": [
        "users.describe()"
      ],
      "metadata": {
        "id": "ztClURf6NvOy"
      },
      "execution_count": null,
      "outputs": []
    },
    {
      "cell_type": "markdown",
      "source": [
        "### **Variables Description**"
      ],
      "metadata": {
        "id": "PBTbrJXOngz2"
      }
    },
    {
      "cell_type": "markdown",
      "source": [
        "### **Books Dataset Description:**\n",
        "\n",
        "1. **ISBN (International Standard Book Number):**\n",
        "   - A unique identifier for books.\n",
        "   - Facilitates the efficient organization and retrieval of books in databases.\n",
        "\n",
        "2. **Book-Title:**\n",
        "   - Represents the title or name of the book.\n",
        "   - Essential for identifying and displaying the book's name in the recommendation system.\n",
        "\n",
        "3. **Book-Author:**\n",
        "   - Specifies the author or authors of the book.\n",
        "   - Important for recognizing and categorizing books based on the author's contribution.\n",
        "\n",
        "4. **Year-Of-Publication:**\n",
        "   - Indicates the year when the book was published.\n",
        "   - Useful for chronological sorting and understanding the book's temporal context.\n",
        "\n",
        "5. **Publisher:**\n",
        "   - Specifies the entity responsible for publishing the book.\n",
        "   - Provides information about the source and production of the book.\n",
        "\n",
        "6. **Image-URL-S, Image-URL-M, Image-URL-L:**\n",
        "   - URLs providing links to images of different sizes related to the book.\n",
        "   - May include small, medium, and large-sized images for visual representation.\n",
        "\n",
        "**Note:** The Image URLs could be utilized for incorporating cover images in the recommendation system, enhancing the user's visual experience.\n",
        "\n",
        "**-------------------------------------------------------------------------------------------------------------------------------------------------------------**\n",
        "### **Ratings Dataset Description:**\n",
        "\n",
        "1. **User-ID:**\n",
        "   - A unique identifier for users in the system.\n",
        "   - Corresponds to the User-ID in the Users dataset, allowing the linkage of ratings to specific users.\n",
        "\n",
        "2. **ISBN:**\n",
        "   - Stands for International Standard Book Number, a unique identifier for books.\n",
        "   - Used to associate each rating with a specific book in the Books dataset.\n",
        "\n",
        "3. **Book-Rating:**\n",
        "   - Represents the rating given by a user to a particular book.\n",
        "   - Typically on a numerical scale, indicating the user's preference or satisfaction with the book.\n",
        "\n",
        "**-------------------------------------------------------------------------------------------------------------------------------------------------------------**   \n",
        "\n",
        "### **Users Dataset Description:**\n",
        "\n",
        "1. **User-ID:**\n",
        "   - A unique identifier for users in the system.\n",
        "   - Serves as a key field to associate user-related information with their activities, such as ratings or reviews.\n",
        "\n",
        "2. **Location:**\n",
        "   - Represents the geographical location or address of the user.\n",
        "   - Location data can provide insights into user demographics and preferences.\n",
        "\n",
        "3. **Age:**\n",
        "   - Represents the age of the user.\n",
        "   - Used to understand the age distribution of users and potentially tailor recommendations based on age groups.\n"
      ],
      "metadata": {
        "id": "aJV4KIxSnxay"
      }
    },
    {
      "cell_type": "markdown",
      "source": [
        "### Check Unique Values for each variable."
      ],
      "metadata": {
        "id": "u3PMJOP6ngxN"
      }
    },
    {
      "cell_type": "code",
      "source": [
        "# Check Unique Values for each variable.\n",
        "print(books.apply(lambda col:col.unique()))\n",
        "unique_counts = books.nunique()\n",
        "print(unique_counts)"
      ],
      "metadata": {
        "id": "zms12Yq5n-jE"
      },
      "execution_count": null,
      "outputs": []
    },
    {
      "cell_type": "code",
      "source": [
        "print(ratings.apply(lambda col:col.unique()))\n",
        "unique_counts = ratings.nunique()\n",
        "print(unique_counts)"
      ],
      "metadata": {
        "id": "-vyiO9eub33R"
      },
      "execution_count": null,
      "outputs": []
    },
    {
      "cell_type": "code",
      "source": [
        "print(users.apply(lambda col:col.unique()))\n",
        "unique_counts = users.nunique()\n",
        "print(unique_counts)"
      ],
      "metadata": {
        "id": "xQ1jDLkgb3zU"
      },
      "execution_count": null,
      "outputs": []
    },
    {
      "cell_type": "markdown",
      "source": [
        "## ***3.Data Wrangling***"
      ],
      "metadata": {
        "id": "dauF4eBmngu3"
      }
    },
    {
      "cell_type": "markdown",
      "source": [
        "### Data Wrangling Code"
      ],
      "metadata": {
        "id": "bKJF3rekwFvQ"
      }
    },
    {
      "cell_type": "markdown",
      "source": [
        "**Converting 'Year-of-Publication' column to int type**"
      ],
      "metadata": {
        "id": "HVkGMOy-Fr25"
      }
    },
    {
      "cell_type": "code",
      "source": [
        "numeric_values = pd.to_numeric(books['Book-Author'], errors='coerce')\n",
        "\n",
        "# Get the non-null entries (numeric values)\n",
        "numeric_entries = numeric_values.dropna()\n",
        "\n",
        "# Check if there are any numeric values in the column\n",
        "if not numeric_entries.empty:\n",
        "    print(\"Numeric values found in the column.\")\n",
        "    print(\"Numeric entries:\", numeric_entries)\n",
        "else:\n",
        "    print(\"No numeric values found in the column.\")"
      ],
      "metadata": {
        "id": "a62Zu0pjFBhF"
      },
      "execution_count": null,
      "outputs": []
    },
    {
      "cell_type": "code",
      "source": [
        "# Assuming 'column_name' is the column you want to check\n",
        "non_numeric_values = pd.to_numeric(books['Year-Of-Publication'], errors='coerce')\n",
        "\n",
        "# Get the non-null entries (non-numeric values)\n",
        "non_numeric_entries = books['Year-Of-Publication'][non_numeric_values.isna()]\n",
        "\n",
        "# Check if there are any non-numeric values in the column\n",
        "if not non_numeric_entries.empty:\n",
        "    print(\"Non-numeric values found in the column.\")\n",
        "    print(\"Non-numeric entries:\", non_numeric_entries)\n",
        "else:\n",
        "    print(\"No non-numeric values found in the column.\")"
      ],
      "metadata": {
        "id": "-b8Od88-ERpD"
      },
      "execution_count": null,
      "outputs": []
    },
    {
      "cell_type": "code",
      "source": [
        "books.shape"
      ],
      "metadata": {
        "id": "cVuWVD1XMweU"
      },
      "execution_count": null,
      "outputs": []
    },
    {
      "cell_type": "code",
      "source": [
        "books.info()"
      ],
      "metadata": {
        "id": "DxTI45JeMUx2"
      },
      "execution_count": null,
      "outputs": []
    },
    {
      "cell_type": "code",
      "source": [
        "# Remove rows with non-numeric values from 'Year-Of-Publication'\n",
        "books = books[~non_numeric_values.isna()]\n",
        "\n",
        "# Convert 'Year-Of-Publication' to numeric\n",
        "books['Year-Of-Publication'] = pd.to_numeric(books['Year-Of-Publication'], errors='coerce')\n"
      ],
      "metadata": {
        "id": "BYj0s-vHMufV"
      },
      "execution_count": null,
      "outputs": []
    },
    {
      "cell_type": "code",
      "source": [
        "books.shape"
      ],
      "metadata": {
        "id": "LnJEqQkvM0cV"
      },
      "execution_count": null,
      "outputs": []
    },
    {
      "cell_type": "code",
      "source": [
        "books['Year-Of-Publication'] = books['Year-Of-Publication'].astype(int)"
      ],
      "metadata": {
        "id": "QzAVKTG0KZ94"
      },
      "execution_count": null,
      "outputs": []
    },
    {
      "cell_type": "markdown",
      "source": [
        "### What all manipulations have you done and insights you found?"
      ],
      "metadata": {
        "id": "MSa1f5Uengrz"
      }
    },
    {
      "cell_type": "markdown",
      "source": [
        "* The \"Year-of-Publication\" column and \"Book-Author\" columnn had 3 misplaced rows , so I removed those 3 rows so I could convert the \"Year-of-Publication\" column to integer type for further analysis on the dataset.\n",
        "\n",
        "* After that, I merged the books dataset with ratings dataset in order to count the number of ratings per book by the users.\n",
        "\n",
        "* Then I also created a column to get the average rating of per book and then merged the count and average column to the dataset.\n",
        "\n",
        "* I created a new variable of 'popular_df' where I have only selected the books that have ratings more than and and equal to 250, this shows us the most popular books which will help in making a high quality recommendation system of only popular books, as the less popular books have less or no ratings which will reduce the quality of our recommendation system."
      ],
      "metadata": {
        "id": "LbyXE7I1olp8"
      }
    },
    {
      "cell_type": "markdown",
      "source": [
        "**Popularity based data manipulation**"
      ],
      "metadata": {
        "id": "7vsfCltDLPYl"
      }
    },
    {
      "cell_type": "code",
      "source": [
        "# Popularity based data manipulation\n",
        "ratings_with_name = ratings.merge(books,on='ISBN')"
      ],
      "metadata": {
        "id": "wk-9a2fpoLcV"
      },
      "execution_count": null,
      "outputs": []
    },
    {
      "cell_type": "code",
      "source": [
        "# Count of ratings of each book\n",
        "num_rating_df = ratings_with_name.groupby('Book-Title').count()['Book-Rating'].reset_index()\n",
        "num_rating_df.rename(columns={'Book-Rating':'num_ratings'},inplace=True)\n",
        "num_rating_df"
      ],
      "metadata": {
        "id": "pFsHyVKodxP7"
      },
      "execution_count": null,
      "outputs": []
    },
    {
      "cell_type": "code",
      "source": [
        "# # Average rating of each book\n",
        "avg_rating_df = ratings_with_name.groupby('Book-Title').mean()['Book-Rating'].reset_index()\n",
        "avg_rating_df.rename(columns={'Book-Rating':'avg_rating'},inplace=True)\n",
        "avg_rating_df"
      ],
      "metadata": {
        "id": "h5Np0hVnBWqb"
      },
      "execution_count": null,
      "outputs": []
    },
    {
      "cell_type": "code",
      "source": [
        "# # Merging count and average ratings in one dataset\n",
        "popular_df = num_rating_df.merge(avg_rating_df,on='Book-Title')\n",
        "popular_df"
      ],
      "metadata": {
        "id": "pb0Tu6P9BWnf"
      },
      "execution_count": null,
      "outputs": []
    },
    {
      "cell_type": "code",
      "source": [
        "# Selecting rows with ratings more than 250\n",
        "popular_df = popular_df[popular_df['num_ratings']>=250].sort_values('avg_rating',ascending=False).head(50)"
      ],
      "metadata": {
        "id": "vo4Hj1wHdw64"
      },
      "execution_count": null,
      "outputs": []
    },
    {
      "cell_type": "code",
      "source": [
        "popular_df = popular_df.merge(books,on='Book-Title').drop_duplicates('Book-Title')[['Book-Title','Book-Author','Image-URL-M','num_ratings','avg_rating']]\n",
        "popular_df.head()"
      ],
      "metadata": {
        "id": "Csxf9OuRdw3D"
      },
      "execution_count": null,
      "outputs": []
    },
    {
      "cell_type": "markdown",
      "source": [
        "## ***4. Data Vizualization, Storytelling & Experimenting with charts : Understand the relationships between variables***"
      ],
      "metadata": {
        "id": "GF8Ens_Soomf"
      }
    },
    {
      "cell_type": "markdown",
      "source": [
        "#### Chart - 1"
      ],
      "metadata": {
        "id": "0wOQAZs5pc--"
      }
    },
    {
      "cell_type": "code",
      "source": [
        "# Chart - 1 visualization code\n",
        "plt.figure(figsize = (10, 8))\n",
        "sns.countplot(x = 'Book-Author', data = books,\n",
        "             order = books['Book-Author'].value_counts().iloc[:10].index)\n",
        "plt.title(\"Top 10 Authors with maximum book publish\")\n",
        "plt.xticks(rotation = 75, fontsize = 12)\n",
        "plt.show()"
      ],
      "metadata": {
        "id": "hSA3_06VXn79"
      },
      "execution_count": null,
      "outputs": []
    },
    {
      "cell_type": "markdown",
      "source": [
        "### **1. Why did you pick the specific chart?**"
      ],
      "metadata": {
        "id": "K5QZ13OEpz2H"
      }
    },
    {
      "cell_type": "markdown",
      "source": [
        "* **Top Authors Comparison:** The chart is designed to show a visual comparison of the number of books published by the top 10 authors.\n",
        "\n",
        "* **Readability:** The horizontal bar chart makes it easier to read and compare the number of books published by each author. The author names are displayed on the y-axis, and the length of the bars represents the count of books published.\n"
      ],
      "metadata": {
        "id": "XESiWehPqBRc"
      }
    },
    {
      "cell_type": "markdown",
      "source": [
        "### **2. What is/are the insight(s) found from the chart?**"
      ],
      "metadata": {
        "id": "lQ7QKXXCp7Bj"
      }
    },
    {
      "cell_type": "markdown",
      "source": [
        "* **Top 10 Focus:** The chart is focused on the top 10 authors with the maximum number of book publications. This allows for a more targeted analysis and provides insights into the most prolific authors.\n",
        "\n",
        "* **Ordering by Count:** The `order` parameter in the `countplot` is set to the order of authors based on the count of books they have published. This ensures that the authors are arranged in descending order of book counts, making it easy to identify the top authors.\n"
      ],
      "metadata": {
        "id": "C_j1G7yiqdRP"
      }
    },
    {
      "cell_type": "markdown",
      "source": [
        "### **3. Will the gained insights help creating a positive business impact?**\n",
        "Are there any insights that lead to negative growth? Justify with specific reason."
      ],
      "metadata": {
        "id": "448CDAPjqfQr"
      }
    },
    {
      "cell_type": "markdown",
      "source": [
        "Identifying the top 10 authors based on book sales or other relevant metrics can potentially bring positive impacts to the business in several ways:\n",
        "\n",
        "1. **Content Curation:**\n",
        "   - Recognizing top-performing authors allows the business to curate and showcase their works prominently.\n",
        "   - This helps in creating a curated and appealing content catalog for customers.\n",
        "\n",
        "2. **Marketing Strategies:**\n",
        "   - The data on top authors can inform targeted marketing strategies.\n",
        "   - Promotions, advertisements, and campaigns can be tailored to highlight books from these popular authors, attracting a larger audience.\n",
        "\n",
        "3. **Partnerships and Collaborations:**\n",
        "   - Building partnerships or collaborations with top authors can lead to exclusive content, joint promotions, or author-related events.\n",
        "   - Such collaborations can enhance the brand image and attract a wider readership.\n",
        "\n",
        "In summary, recognizing and leveraging the influence of top authors can positively impact the business by enhancing customer engagement, driving sales, and solidifying the business's position in the market."
      ],
      "metadata": {
        "id": "3cspy4FjqxJW"
      }
    },
    {
      "cell_type": "markdown",
      "source": [
        "#### Chart - 2"
      ],
      "metadata": {
        "id": "KSlN3yHqYklG"
      }
    },
    {
      "cell_type": "code",
      "source": [
        "# Chart - 2 visualization code\n",
        "# to find most occuring book in our data\n",
        "plt.figure(figsize = (20, 6))\n",
        "book = books['Book-Title'].value_counts()[:20]\n",
        "sns.barplot(x = book.index, y = book,\n",
        "           palette = 'winter_r')\n",
        "plt.title(\"Most occuring Books\")\n",
        "plt.xlabel(\"Number of Occurance\")\n",
        "plt.ylabel(\"Books\")\n",
        "plt.xticks(rotation = 75, fontsize = 13)\n",
        "plt.show()"
      ],
      "metadata": {
        "id": "R4YgtaqtYklH"
      },
      "execution_count": null,
      "outputs": []
    },
    {
      "cell_type": "markdown",
      "source": [
        "### **1. Why did you pick the specific chart?**"
      ],
      "metadata": {
        "id": "t6dVpIINYklI"
      }
    },
    {
      "cell_type": "markdown",
      "source": [
        "Choosing a bar graph chart is an effective visualization strategy to compare the top 20 most occurring books for several reasons. A bar graph provides a clear and straightforward representation of the frequency or occurrence of each book, allowing for a quick and intuitive understanding of the distribution. The length of each bar corresponds directly to the count or frequency of a specific book, enabling viewers to easily identify the most prevalent titles. Additionally, the visual hierarchy created by the bars facilitates comparisons between different books, aiding in the identification of popular and less popular choices. The simplicity of a bar graph makes it an accessible and user-friendly choice, ensuring that even those less familiar with data visualization can interpret and draw meaningful insights from the information presented."
      ],
      "metadata": {
        "id": "5aaW0BYyYklI"
      }
    },
    {
      "cell_type": "markdown",
      "source": [
        "### **2. What is/are the insight(s) found from the chart?**"
      ],
      "metadata": {
        "id": "ijmpgYnKYklI"
      }
    },
    {
      "cell_type": "markdown",
      "source": [
        "Top 20 occuring books in the dataset."
      ],
      "metadata": {
        "id": "PSx9atu2YklI"
      }
    },
    {
      "cell_type": "markdown",
      "source": [
        "### **3. Will the gained insights help creating a positive business impact?**\n",
        "Are there any insights that lead to negative growth? Justify with specific reason."
      ],
      "metadata": {
        "id": "-JiQyfWJYklI"
      }
    },
    {
      "cell_type": "markdown",
      "source": [
        "The insights gained from the analysis of the book recommendation system have the potential to create a positive business impact by informing strategic decisions, improving user experience, and optimizing business processes. Positive impacts may include tailoring recommendations to user preferences, enhancing customer satisfaction, and ultimately increasing engagement and sales. However, it's essential to acknowledge that certain insights could lead to negative growth if not addressed appropriately.\n",
        "\n",
        "\n",
        "For instance, if the analysis reveals a significant decline in user engagement with certain genres or authors, it might signal a potential dissatisfaction among users or a need for diversification. Failure to address such issues could result in a negative impact on user retention, leading to reduced business growth and profitability. Similarly, identifying unpopular or poorly-rated books could guide the business toward refining its inventory or exploring opportunities for marketing and promotion.\n"
      ],
      "metadata": {
        "id": "BcBbebzrYklV"
      }
    },
    {
      "cell_type": "markdown",
      "source": [
        "### **Chart - 3**"
      ],
      "metadata": {
        "id": "EM7whBJCYoAo"
      }
    },
    {
      "cell_type": "code",
      "source": [
        "# Chart - 3 visualization code\n",
        "# Average ratings of popular books\n",
        "sns.distplot(popular_df['avg_rating'])\n",
        "plt.show()"
      ],
      "metadata": {
        "id": "t6GMdE67YoAp"
      },
      "execution_count": null,
      "outputs": []
    },
    {
      "cell_type": "markdown",
      "source": [
        "### **1. Why did you pick the specific chart?**"
      ],
      "metadata": {
        "id": "fge-S5ZAYoAp"
      }
    },
    {
      "cell_type": "markdown",
      "source": [
        "This type of chart is effective for showcasing the distribution of a numerical variable, such as average ratings, and allows stakeholders to identify patterns, trends, and outliers in the dataset."
      ],
      "metadata": {
        "id": "5dBItgRVYoAp"
      }
    },
    {
      "cell_type": "markdown",
      "source": [
        "### **2. What is/are the insight(s) found from the chart?**"
      ],
      "metadata": {
        "id": "85gYPyotYoAp"
      }
    },
    {
      "cell_type": "markdown",
      "source": [
        "The insights gained from the chart on the distribution of average ratings reveal the varying degrees of reader satisfaction across different books. By examining the verticle bar graph, it becomes evident which books have received the highest and lowest average ratings."
      ],
      "metadata": {
        "id": "4jstXR6OYoAp"
      }
    },
    {
      "cell_type": "markdown",
      "source": [
        "### **Chart - 4**"
      ],
      "metadata": {
        "id": "4Of9eVA-YrdM"
      }
    },
    {
      "cell_type": "code",
      "source": [
        "# Chart - 4 visualization code\n",
        "plt.figure(figsize = (10, 8))\n",
        "publisher = books['Publisher'].value_counts()[:20]\n",
        "sns.barplot(x = publisher.index, y = publisher, palette = 'winter_r')\n",
        "plt.title(\"Publishers\")\n",
        "plt.xlabel(\"Number of Occurance\")\n",
        "plt.ylabel(\"Publishers\")\n",
        "plt.xticks(rotation = 75, fontsize = 13)\n",
        "plt.show()"
      ],
      "metadata": {
        "id": "irlUoxc8YrdO"
      },
      "execution_count": null,
      "outputs": []
    },
    {
      "cell_type": "markdown",
      "source": [
        "### **1. Why did you pick the specific chart?**"
      ],
      "metadata": {
        "id": "iky9q4vBYrdO"
      }
    },
    {
      "cell_type": "markdown",
      "source": [
        "Choosing a bar graph chart is an effective visualization method for comparing the top 20 publishers in the dataset due to its simplicity, clarity, and ability to convey relative quantities. A bar graph allows for a straightforward representation of the number of books associated with each publisher, making it easy for viewers to discern the publishers with the highest book counts."
      ],
      "metadata": {
        "id": "aJRCwT6DYrdO"
      }
    },
    {
      "cell_type": "markdown",
      "source": [
        "### **2. What is/are the insight(s) found from the chart?**"
      ],
      "metadata": {
        "id": "F6T5p64dYrdO"
      }
    },
    {
      "cell_type": "markdown",
      "source": [
        "The chart reveals the dominance of certain publishers, with a clear distinction in the number of books published by each. Publishers occupying the top positions contribute significantly more books compared to others, indicating a concentration of literary output among a select few."
      ],
      "metadata": {
        "id": "Xx8WAJvtYrdO"
      }
    },
    {
      "cell_type": "markdown",
      "source": [
        "### **3. Will the gained insights help creating a positive business impact?**\n",
        "Are there any insights that lead to negative growth? Justify with specific reason."
      ],
      "metadata": {
        "id": "y-Ehk30pYrdP"
      }
    },
    {
      "cell_type": "markdown",
      "source": [
        "* Publishers with a high book count can leverage their extensive catalog to form strategic partnerships with bookstores, online platforms, or other distribution channels. This collaboration can enhance visibility and reach a broader audience, positively impacting sales and market presence.\n",
        "\n",
        " * A concentration of books among a few dominant publishers may lead to market saturation. If these publishers saturate the market with similar content, it could limit opportunities for smaller publishers to gain visibility and negatively impact their growth."
      ],
      "metadata": {
        "id": "jLNxxz7MYrdP"
      }
    },
    {
      "cell_type": "markdown",
      "source": [
        "### **Chart - 5: Top 20 highest rating books (Bivariate)**"
      ],
      "metadata": {
        "id": "bamQiAODYuh1"
      }
    },
    {
      "cell_type": "code",
      "source": [
        "# Chart - 5 visualization code\n",
        "top_20_ratings = popular_df.nlargest(20, 'avg_rating')\n",
        "\n",
        "plt.figure(figsize=(12, 8))\n",
        "sns.barplot(x='avg_rating', y='Book-Title', data=top_20_ratings, palette='magma')\n",
        "plt.title('Top 20 Books with Highest Ratings')\n",
        "plt.xlabel('Average Rating')\n",
        "plt.ylabel('Book Title')\n",
        "plt.show()"
      ],
      "metadata": {
        "id": "TIJwrbroYuh3"
      },
      "execution_count": null,
      "outputs": []
    },
    {
      "cell_type": "markdown",
      "source": [
        "### **1. Why did you pick the specific chart?**"
      ],
      "metadata": {
        "id": "QHF8YVU7Yuh3"
      }
    },
    {
      "cell_type": "markdown",
      "source": [
        "Choosing a horizontal bar graph chart to visualize the top 20 books with the highest ratings in the dataset is a strategic decision driven by the nature of the data and the need for clear and intuitive comparisons. The horizontal orientation of the bars allows for efficient use of space, especially when dealing with a larger number of items, as in this case, the top 20 books."
      ],
      "metadata": {
        "id": "dcxuIMRPYuh3"
      }
    },
    {
      "cell_type": "markdown",
      "source": [
        "### **2. What is/are the insight(s) found from the chart?**"
      ],
      "metadata": {
        "id": "GwzvFGzlYuh3"
      }
    },
    {
      "cell_type": "markdown",
      "source": [
        "The insights derived from the horizontal bar graph chart depicting the top 20 books with the highest ratings can provide valuable information about the most well-received books in the dataset. Stakeholders can quickly identify the books that have garnered the highest ratings, potentially indicating popular and highly recommended reads. This visualization helps spotlight standout performers and showcases the level of satisfaction or acclaim readers have expressed for certain titles."
      ],
      "metadata": {
        "id": "uyqkiB8YYuh3"
      }
    },
    {
      "cell_type": "markdown",
      "source": [
        "### **3. Will the gained insights help creating a positive business impact?**\n",
        "Are there any insights that lead to negative growth? Justify with specific reason."
      ],
      "metadata": {
        "id": "qYpmQ266Yuh3"
      }
    },
    {
      "cell_type": "markdown",
      "source": [
        "The gained insights from the analysis of the top 20 books with the highest ratings can indeed contribute to creating a positive business impact. Positive aspects include identifying best-selling and highly-rated books that can be strategically promoted to attract more readers. The information can guide marketing efforts, help in curating appealing book bundles, or influence inventory management to meet the demand for popular titles. Positive feedback on certain books can also aid in building a positive brand image."
      ],
      "metadata": {
        "id": "_WtzZ_hCYuh4"
      }
    },
    {
      "cell_type": "markdown",
      "source": [
        "### **Chart - 6**"
      ],
      "metadata": {
        "id": "OH-pJp9IphqM"
      }
    },
    {
      "cell_type": "code",
      "source": [
        "# Chart - 6 visualization code\n",
        "age_ranges = pd.cut(users['Age'], bins=[0, 18, 25, 35, 50, 100], labels=['0-18', '19-25', '26-35', '36-50', '51+'], include_lowest=True)\n",
        "\n",
        "# Count the number of users in each age range\n",
        "age_distribution = age_ranges.value_counts()\n",
        "\n",
        "# Create a pie chart\n",
        "plt.figure(figsize=(8, 8))\n",
        "plt.pie(age_distribution, labels=age_distribution.index, autopct='%1.1f%%', startangle=90, colors=sns.color_palette('pastel'))\n",
        "plt.title('Age Distribution of Users')\n",
        "plt.show()"
      ],
      "metadata": {
        "id": "kuRf4wtuphqN"
      },
      "execution_count": null,
      "outputs": []
    },
    {
      "cell_type": "markdown",
      "source": [
        "### **1. Why did you pick the specific chart?**"
      ],
      "metadata": {
        "id": "bbFf2-_FphqN"
      }
    },
    {
      "cell_type": "markdown",
      "source": [
        "Choosing a pie chart for visualizing age distribution in the dataset is a suitable approach as it provides a clear and concise representation of the proportion of different age groups. A pie chart is effective in conveying the relative distribution of categories, making it easy for viewers to grasp the composition of the dataset at a glance."
      ],
      "metadata": {
        "id": "loh7H2nzphqN"
      }
    },
    {
      "cell_type": "markdown",
      "source": [
        "### **2. What is/are the insight(s) found from the chart?**"
      ],
      "metadata": {
        "id": "_ouA3fa0phqN"
      }
    },
    {
      "cell_type": "markdown",
      "source": [
        "The insights derived from the pie chart representing age distribution reveal the composition of different age groups within the dataset. By analyzing the chart, it becomes evident which age categories are more prevalent and the proportional distribution across the entire dataset. This visual representation allows for a quick understanding of the dataset's demographic structure."
      ],
      "metadata": {
        "id": "VECbqPI7phqN"
      }
    },
    {
      "cell_type": "markdown",
      "source": [
        "### **3. Will the gained insights help creating a positive business impact?**\n",
        "Are there any insights that lead to negative growth? Justify with specific reason."
      ],
      "metadata": {
        "id": "Seke61FWphqN"
      }
    },
    {
      "cell_type": "markdown",
      "source": [
        "The insights gained from the age distribution chart can indeed contribute to creating a positive business impact. Understanding the age demographics of the user base is crucial for tailoring products and services to meet the preferences and needs of specific age groups. This targeted approach can enhance user experience, engagement, and satisfaction, ultimately leading to increased user retention and positive word-of-mouth."
      ],
      "metadata": {
        "id": "DW4_bGpfphqN"
      }
    },
    {
      "cell_type": "markdown",
      "source": [
        "### **Chart - 7**"
      ],
      "metadata": {
        "id": "PIIx-8_IphqN"
      }
    },
    {
      "cell_type": "code",
      "source": [
        "# Chart - 7 visualization code\n",
        "location_distribution = users['Location'].value_counts().head(20)\n",
        "\n",
        "# Create a bar chart\n",
        "plt.figure(figsize=(12, 6))\n",
        "sns.barplot(x=location_distribution.values, y=location_distribution.index, palette='viridis')\n",
        "plt.title('Top 20 User Locations')\n",
        "plt.xlabel('Number of Users')\n",
        "plt.ylabel('Location')\n",
        "plt.show()"
      ],
      "metadata": {
        "id": "lqAIGUfyphqO"
      },
      "execution_count": null,
      "outputs": []
    },
    {
      "cell_type": "markdown",
      "source": [
        "### **1. Why did you pick the specific chart?**"
      ],
      "metadata": {
        "id": "t27r6nlMphqO"
      }
    },
    {
      "cell_type": "markdown",
      "source": [
        "write me a paragraph explaining why choosing horizontal bar graph chart is a good visualization to compare the top 20 books with highest ratings in the dataset"
      ],
      "metadata": {
        "id": "iv6ro40sphqO"
      }
    },
    {
      "cell_type": "markdown",
      "source": [
        "### **2. What is/are the insight(s) found from the chart?**"
      ],
      "metadata": {
        "id": "r2jJGEOYphqO"
      }
    },
    {
      "cell_type": "markdown",
      "source": [
        "The horizontal bar graph chart representing the top 20 user locations offers insights into the distribution of users across different geographical areas. By examining the lengths of the bars, we can observe the varying levels of user concentration in each location. This visualization allows us to identify the most popular user locations and the relative sizes of their user bases."
      ],
      "metadata": {
        "id": "Po6ZPi4hphqO"
      }
    },
    {
      "cell_type": "markdown",
      "source": [
        "### **3. Will the gained insights help creating a positive business impact?**\n",
        "Are there any insights that lead to negative growth? Justify with specific reason."
      ],
      "metadata": {
        "id": "b0JNsNcRphqO"
      }
    },
    {
      "cell_type": "markdown",
      "source": [
        "The insights gained from the horizontal bar graph chart on the top 20 user locations can indeed help create a positive business impact. Identifying the regions with the highest user concentration allows businesses to tailor their marketing strategies, promotional activities, and service offerings to better cater to the preferences and needs of users in those areas. This targeted approach can lead to increased user engagement, customer satisfaction, and potentially higher revenue."
      ],
      "metadata": {
        "id": "xvSq8iUTphqO"
      }
    },
    {
      "cell_type": "markdown",
      "source": [
        "## ***5. Hypothesis Testing***"
      ],
      "metadata": {
        "id": "g-ATYxFrGrvw"
      }
    },
    {
      "cell_type": "markdown",
      "source": [
        "### Based on your chart experiments, define three hypothetical statements from the dataset. In the next three questions, perform hypothesis testing to obtain final conclusion about the statements through your code and statistical testing."
      ],
      "metadata": {
        "id": "Yfr_Vlr8HBkt"
      }
    },
    {
      "cell_type": "markdown",
      "source": [
        "**Hypothesis 1:** There is a significant difference in average ratings given by users from different age groups.\n",
        "\n",
        "**Hypothesis 2:** The number of books published by different publishers is significantly different.\n",
        "\n",
        "**Hypothesis 3:** There is a significant correlation between the age of users and the average ratings they give."
      ],
      "metadata": {
        "id": "-7MS06SUHkB-"
      }
    },
    {
      "cell_type": "markdown",
      "source": [
        "### **Hypothetical Statement - 1**"
      ],
      "metadata": {
        "id": "8yEUt7NnHlrM"
      }
    },
    {
      "cell_type": "markdown",
      "source": [
        "#### 1. State Your research hypothesis as a null hypothesis and alternate hypothesis."
      ],
      "metadata": {
        "id": "tEA2Xm5dHt1r"
      }
    },
    {
      "cell_type": "markdown",
      "source": [
        "**Hypothesis 1:** There is a significant difference in average ratings given by users from different age groups.\n",
        "\n",
        "Null Hypothesis (H0): There is no significant difference in average ratings among users of different age groups.\n",
        "\n",
        "Alternative Hypothesis (H1): There is a significant difference in average ratings among users of different age groups."
      ],
      "metadata": {
        "id": "HI9ZP0laH0D-"
      }
    },
    {
      "cell_type": "markdown",
      "source": [
        "#### 2. Perform an appropriate statistical test."
      ],
      "metadata": {
        "id": "I79__PHVH19G"
      }
    },
    {
      "cell_type": "code",
      "source": [
        "# Perform Statistical Test to obtain P-Value\n",
        "\n",
        "# Assume age groups: 'Young', 'Middle-aged', 'Senior'\n",
        "young_age_group = users[(users['Age'] >= 18) & (users['Age'] < 35)]['User-ID']\n",
        "middle_age_group = users[(users['Age'] >= 35) & (users['Age'] < 50)]['User-ID']\n",
        "senior_age_group = users[users['Age'] >= 50]['User-ID']\n",
        "\n",
        "young_ratings = ratings[ratings['User-ID'].isin(young_age_group)]['Book-Rating']\n",
        "middle_ratings = ratings[ratings['User-ID'].isin(middle_age_group)]['Book-Rating']\n",
        "senior_ratings = ratings[ratings['User-ID'].isin(senior_age_group)]['Book-Rating']\n",
        "\n",
        "# Perform ANOVA test\n",
        "f_statistic, p_value = stats.f_oneway(young_ratings, middle_ratings, senior_ratings)\n",
        "print(f'Hypothesis 1 - ANOVA Test: p-value = {p_value}')\n",
        "if p_value < 0.05:\n",
        "    print('Reject the null hypothesis. There is a significant difference in average ratings among age groups.')\n",
        "else:\n",
        "    print('Fail to reject the null hypothesis.')"
      ],
      "metadata": {
        "id": "oZrfquKtyian"
      },
      "execution_count": null,
      "outputs": []
    },
    {
      "cell_type": "markdown",
      "source": [
        "##### **Which statistical test have you done to obtain P-Value?**"
      ],
      "metadata": {
        "id": "Ou-I18pAyIpj"
      }
    },
    {
      "cell_type": "markdown",
      "source": [
        "For the first hypothesis testing related to age groups and average ratings, I have used a one-way analysis of variance (ANOVA) test. ANOVA helps determine whether there are any statistically significant differences between the means of three or more independent (unrelated) groups.\n",
        "\n",
        "The steps involved in conducting ANOVA include:\n",
        "\n",
        "1. Formulating hypotheses (as mentioned earlier).\n",
        "2. Checking assumptions (normality, homogeneity of variances).\n",
        "3. Performing the ANOVA test.\n",
        "4. Analyzing the results, including obtaining p-values.\n",
        "\n",
        "The p-value obtained from the ANOVA test will help us determine whether we reject the null hypothesis or fail to reject it. If the p-value is below a chosen significance level (commonly 0.05), we reject the null hypothesis."
      ],
      "metadata": {
        "id": "s2U0kk00ygSB"
      }
    },
    {
      "cell_type": "markdown",
      "source": [
        "##### **Why did you choose the specific statistical test?**"
      ],
      "metadata": {
        "id": "fF3858GYyt-u"
      }
    },
    {
      "cell_type": "markdown",
      "source": [
        "The choice of a specific statistical test, in this case, the one-way analysis of variance (ANOVA), is determined by the nature of the hypotheses being tested and the characteristics of the data.\n",
        "\n",
        "In the context of the first hypothesis testing regarding age groups and average ratings, ANOVA is appropriate for the following reasons:\n",
        "\n",
        "1. **Multiple Groups:** We are comparing the means of three or more groups (age groups), making ANOVA suitable for assessing differences across multiple groups simultaneously.\n",
        "\n",
        "2. **Independent Groups:** ANOVA is designed for comparing means of independent groups, and in this case, different age groups are likely independent of each other.\n",
        "\n",
        "3. **Continuous Outcome Variable:** The average ratings are assumed to be continuous, and ANOVA is appropriate for comparing means of continuous variables.\n",
        "\n",
        "4. **Homogeneity of Variances:** ANOVA assumes homogeneity of variances across groups, so it's essential to check this assumption before applying the test.\n",
        "\n",
        "5. **Normality:** While ANOVA is considered robust to violations of normality, it's still beneficial to have approximately normal distributions within each group.\n",
        "\n",
        "In summary, ANOVA is chosen based on its suitability for comparing means across multiple independent groups, making it a relevant choice for analyzing the differences in average ratings across different age groups."
      ],
      "metadata": {
        "id": "HO4K0gP5y3B4"
      }
    },
    {
      "cell_type": "markdown",
      "source": [
        "### **Hypothetical Statement - 2**"
      ],
      "metadata": {
        "id": "4_0_7-oCpUZd"
      }
    },
    {
      "cell_type": "markdown",
      "source": [
        "#### 1. State Your research hypothesis as a null hypothesis and alternate hypothesis."
      ],
      "metadata": {
        "id": "hwyV_J3ipUZe"
      }
    },
    {
      "cell_type": "markdown",
      "source": [
        "**Hypothesis 2:** The number of books published by different publishers is significantly different.\n",
        "\n",
        "**Null Hypothesis (H0):** There is no significant difference in the number of books published by Publisher1 and Publisher2.\n",
        "\n",
        "**Alternative Hypothesis (H1):** There is a significant difference in the number of books published by Publisher1 and Publisher2."
      ],
      "metadata": {
        "id": "FnpLGJ-4pUZe"
      }
    },
    {
      "cell_type": "markdown",
      "source": [
        "#### 2. Perform an appropriate statistical test."
      ],
      "metadata": {
        "id": "3yB-zSqbpUZe"
      }
    },
    {
      "cell_type": "code",
      "source": [
        "books['ISBN'] = pd.to_numeric(books['ISBN'], errors='coerce', downcast='integer')\n"
      ],
      "metadata": {
        "id": "LPn9wv1sOOPD"
      },
      "execution_count": null,
      "outputs": []
    },
    {
      "cell_type": "code",
      "source": [
        "# Perform Statistical Test to obtain P-Value\n",
        "# Hypothesis 2: Difference in the number of books published by different publishers\n",
        "# Choose two publishers for comparison\n",
        "publisher1_books = books[books['Publisher'] == 'Harlequin']['ISBN']\n",
        "publisher2_books = books[books['Publisher'] == 'Silhouette']['ISBN']\n",
        "\n",
        "# Perform Two-sample t-test\n",
        "t_statistic, p_value = stats.ttest_ind(publisher1_books, publisher2_books, equal_var=False)\n",
        "print(f'Hypothesis 2 - Two-sample t-test: p-value = {p_value}')\n",
        "if p_value < 0.05:\n",
        "    print('Reject the null hypothesis. There is a significant difference in the number of books published by different publishers.')\n",
        "else:\n",
        "    print('Fail to reject the null hypothesis.')"
      ],
      "metadata": {
        "id": "sWxdNTXNpUZe"
      },
      "execution_count": null,
      "outputs": []
    },
    {
      "cell_type": "markdown",
      "source": [
        "##### **Which statistical test have you done to obtain P-Value?**"
      ],
      "metadata": {
        "id": "dEUvejAfpUZe"
      }
    },
    {
      "cell_type": "markdown",
      "source": [
        "The statistical test used for Hypothesis 2 is the two-sample t-test."
      ],
      "metadata": {
        "id": "oLDrPz7HpUZf"
      }
    },
    {
      "cell_type": "markdown",
      "source": [
        "##### **Why did you choose the specific statistical test?**"
      ],
      "metadata": {
        "id": "Fd15vwWVpUZf"
      }
    },
    {
      "cell_type": "markdown",
      "source": [
        "The two-sample t-test was chosen for Hypothesis 2 because it is appropriate for comparing the means of two independent groups. In this case, the hypothesis is focused on the difference in the number of books published by different publishers. The two-sample t-test assesses whether the means of two groups are significantly different from each other, making it suitable for examining whether there is a significant difference in the number of books published by different publishers."
      ],
      "metadata": {
        "id": "4xOGYyiBpUZf"
      }
    },
    {
      "cell_type": "markdown",
      "source": [
        "### **Hypothetical Statement - 3**"
      ],
      "metadata": {
        "id": "bn_IUdTipZyH"
      }
    },
    {
      "cell_type": "markdown",
      "source": [
        "#### 1. State Your research hypothesis as a null hypothesis and alternate hypothesis."
      ],
      "metadata": {
        "id": "49K5P_iCpZyH"
      }
    },
    {
      "cell_type": "markdown",
      "source": [
        "**Hypothesis 3:** There is a significant correlation between the age of users and the average ratings they give.\n",
        "\n",
        "**Null Hypothesis (H0):** There is no significant correlation between the age of users and the average ratings they give.\n",
        "\n",
        "**Alternative Hypothesis (H1):** There is a significant correlation between the age of users and the average ratings they give."
      ],
      "metadata": {
        "id": "7gWI5rT9pZyH"
      }
    },
    {
      "cell_type": "markdown",
      "source": [
        "#### 2. Perform an appropriate statistical test."
      ],
      "metadata": {
        "id": "Nff-vKELpZyI"
      }
    },
    {
      "cell_type": "code",
      "source": [
        "# Perform Statistical Test to obtain P-Value\n",
        "# Hypothesis 3: Correlation between the age of users and average ratings\n",
        "merged_data = pd.merge(ratings, users, on='User-ID')\n",
        "\n",
        "# Drop rows with missing values in 'Age' and 'Book-Rating'\n",
        "merged_data = merged_data.dropna(subset=['Age', 'Book-Rating'])\n",
        "\n",
        "# Calculate correlation coefficient and p-value\n",
        "correlation_coefficient, p_value = stats.pearsonr(merged_data['Age'], merged_data['Book-Rating'])\n",
        "\n",
        "# Print the results\n",
        "print(\"Correlation Coefficient:\", correlation_coefficient)\n",
        "print(\"P-Value:\", p_value)\n",
        "\n",
        "# Perform hypothesis testing\n",
        "alpha = 0.05\n",
        "if p_value < alpha:\n",
        "    print(\"Reject the null hypothesis: There is a significant correlation.\")\n",
        "else:\n",
        "    print(\"Fail to reject the null hypothesis: There is no significant correlation.\")"
      ],
      "metadata": {
        "id": "Q6ADg2tLRBbE"
      },
      "execution_count": null,
      "outputs": []
    },
    {
      "cell_type": "markdown",
      "source": [
        "##### **Which statistical test have you done to obtain P-Value?**"
      ],
      "metadata": {
        "id": "kLW572S8pZyI"
      }
    },
    {
      "cell_type": "markdown",
      "source": [
        "The statistical test used in the code provided is the Pearson correlation coefficient and its associated p-value. The stats.pearsonr function from the SciPy library is employed to calculate the correlation coefficient and its corresponding p-value. The Pearson correlation coefficient assesses the linear relationship between two continuous variables, in this case, 'Age' and 'Book-Rating'. The p-value helps determine whether the observed correlation is statistically significant."
      ],
      "metadata": {
        "id": "ytWJ8v15pZyI"
      }
    },
    {
      "cell_type": "markdown",
      "source": [
        "##### **Why did you choose the specific statistical test?**"
      ],
      "metadata": {
        "id": "dWbDXHzopZyI"
      }
    },
    {
      "cell_type": "markdown",
      "source": [
        "The Pearson correlation coefficient is chosen as the specific statistical test for the given hypothesis because it measures the strength and direction of a linear relationship between two continuous variables. In this case, we are interested in understanding if there is a linear correlation between the age of users and their book ratings.\n",
        "\n",
        "The Pearson correlation coefficient ranges from -1 to 1, where:\n",
        "- 1 indicates a perfect positive linear correlation,\n",
        "- -1 indicates a perfect negative linear correlation,\n",
        "- 0 indicates no linear correlation.\n",
        "\n",
        "The associated p-value helps determine the statistical significance of the observed correlation. A low p-value (typically below a chosen significance level, such as 0.05) suggests that the observed correlation is unlikely to have occurred by chance, allowing us to reject the null hypothesis of no correlation."
      ],
      "metadata": {
        "id": "M99G98V6pZyI"
      }
    },
    {
      "cell_type": "markdown",
      "source": [
        "## ***6. Feature Engineering & Data Pre-processing***"
      ],
      "metadata": {
        "id": "yLjJCtPM0KBk"
      }
    },
    {
      "cell_type": "markdown",
      "source": [
        "### 1. Handling Missing Values"
      ],
      "metadata": {
        "id": "xiyOF9F70UgQ"
      }
    },
    {
      "cell_type": "code",
      "source": [
        "# Handling Missing Values & Missing Value Imputation\n",
        "books_missing_values"
      ],
      "metadata": {
        "id": "iRsAHk1K0fpS"
      },
      "execution_count": null,
      "outputs": []
    },
    {
      "cell_type": "code",
      "source": [
        "users_missing_values"
      ],
      "metadata": {
        "id": "-LkGrTAsn44T"
      },
      "execution_count": null,
      "outputs": []
    },
    {
      "cell_type": "code",
      "source": [
        "books = books.dropna()\n",
        "users = users.drop('Age', axis=1)"
      ],
      "metadata": {
        "id": "4Bnv09LfvF97"
      },
      "execution_count": null,
      "outputs": []
    },
    {
      "cell_type": "code",
      "source": [
        "users.head()"
      ],
      "metadata": {
        "id": "jPKmJ6tz_8Ul"
      },
      "execution_count": null,
      "outputs": []
    },
    {
      "cell_type": "markdown",
      "source": [
        "#### What all missing value imputation techniques have you used and why did you use those techniques?"
      ],
      "metadata": {
        "id": "7wuGOrhz0itI"
      }
    },
    {
      "cell_type": "markdown",
      "source": [
        "There are very few missing values in books dataset , so i dropped the rows.\n",
        "The users dataset had 40% missing values in Age column, hence i dropped it.\n"
      ],
      "metadata": {
        "id": "1ixusLtI0pqI"
      }
    },
    {
      "cell_type": "markdown",
      "source": [
        "### 2. Handling Outliers"
      ],
      "metadata": {
        "id": "id1riN9m0vUs"
      }
    },
    {
      "cell_type": "markdown",
      "source": [
        "##### What all outlier treatment techniques have you used and why did you use those techniques?"
      ],
      "metadata": {
        "id": "578E2V7j08f6"
      }
    },
    {
      "cell_type": "markdown",
      "source": [
        "The three datasets for the book recommendation system consist of 'books', 'users', and 'ratings'. In these datasets, there are no explicitly defined numeric columns that would typically exhibit outliers. Outliers are values that deviate significantly from the majority of the data and can distort statistical analyses or machine learning models. In the context of the book recommendation system datasets, the columns primarily contain categorical information such as book titles, authors, user IDs, ratings, and textual data. These types of data do not inherently exhibit outliers in the same way numeric variables might. Therefore, handling outliers is not a relevant task for these datasets. Instead, the focus can be on tasks such as data cleaning, and handling missing values, which are more pertinent to the nature of the information contained in the datasets."
      ],
      "metadata": {
        "id": "uGZz5OrT1HH-"
      }
    },
    {
      "cell_type": "markdown",
      "source": [
        "### 4. Feature Manipulation & Selection"
      ],
      "metadata": {
        "id": "-oLEiFgy-5Pf"
      }
    },
    {
      "cell_type": "markdown",
      "source": [
        "#### 1. Feature Manipulation"
      ],
      "metadata": {
        "id": "C74aWNz2AliB"
      }
    },
    {
      "cell_type": "code",
      "source": [
        "# Feature Manipulaton done from data wrangling\n",
        "\n",
        "'''\n",
        "# Popularity based data manipulation\n",
        "ratings_with_name = ratings.merge(books,on='ISBN')\n",
        "\n",
        "# Count of ratings of each book\n",
        "num_rating_df = ratings_with_name.groupby('Book-Title').count()['Book-Rating'].reset_index()\n",
        "num_rating_df.rename(columns={'Book-Rating':'num_ratings'},inplace=True)\n",
        "\n",
        "# # Average rating of each book\n",
        "avg_rating_df = ratings_with_name.groupby('Book-Title').mean()['Book-Rating'].reset_index()\n",
        "avg_rating_df.rename(columns={'Book-Rating':'avg_rating'},inplace=True)\n",
        "\n",
        "# # Merging count and average ratings in one dataset\n",
        "popular_df = num_rating_df.merge(avg_rating_df,on='Book-Title')\n",
        "\n",
        "# Selecting rows with ratings more than 250\n",
        "popular_df = popular_df[popular_df['num_ratings']>=250].sort_values('avg_rating',ascending=False).head(50)\n",
        "\n",
        "popular_df = popular_df.merge(books,on='Book-Title').drop_duplicates('Book-Title')[['Book-Title','Book-Author','Image-URL-M','num_ratings','avg_rating']]\n",
        "popular_df.head()\n",
        "\n",
        "'''"
      ],
      "metadata": {
        "id": "3383iYTkHXkQ"
      },
      "execution_count": null,
      "outputs": []
    },
    {
      "cell_type": "markdown",
      "source": [
        "#### 2. Feature Selection"
      ],
      "metadata": {
        "id": "2DejudWSA-a0"
      }
    },
    {
      "cell_type": "code",
      "source": [
        "# Select your features wisely to avoid overfitting\n",
        "# popular_df = popular_df.merge(books,on='Book-Title').drop_duplicates('Book-Title')[['Book-Title','Book-Author','Image-URL-M','num_ratings','avg_rating']]\n",
        "popular_df.head()"
      ],
      "metadata": {
        "id": "YLhe8UmaBCEE"
      },
      "execution_count": null,
      "outputs": []
    },
    {
      "cell_type": "markdown",
      "source": [
        "##### What all feature selection methods have you used  and why?"
      ],
      "metadata": {
        "id": "pEMng2IbBLp7"
      }
    },
    {
      "cell_type": "markdown",
      "source": [
        "The feature selection methods employed here focus on popularity indicators such as the count and average rating of books. Filtering by a minimum number of ratings ensures that the selected books have a significant user base, making the recommendations more reliable and reflective of general reader preferences. The sorting by average rating adds a quality measure to the popularity selection, promoting books that not only have high popularity but also high reader satisfaction."
      ],
      "metadata": {
        "id": "rb2Lh6Z8BgGs"
      }
    },
    {
      "cell_type": "markdown",
      "source": [
        "##### Which all features you found important and why?"
      ],
      "metadata": {
        "id": "rAdphbQ9Bhjc"
      }
    },
    {
      "cell_type": "markdown",
      "source": [
        "In the context of the book recommendation system, the key features considered important are the count of ratings (`num_ratings`) and the average rating (`avg_rating`) for each book. These features serve as crucial indicators of a book's popularity and user satisfaction. The count of ratings provides insight into the book's overall popularity by considering the number of readers who have rated it. This ensures that the recommendations are based on books with a substantial user base, enhancing the reliability of the system. On the other hand, the average rating offers a measure of the book's quality, representing the collective sentiment of readers. By filtering out books with fewer than 250 ratings, the system focuses on those that have garnered a significant level of attention. The sorting based on average rating further refines the selection, prioritizing books that not only attract a large audience but also maintain high reader satisfaction. In summary, the chosen features emphasize a balance between popularity and quality, contributing to a more effective and user-centric book recommendation system."
      ],
      "metadata": {
        "id": "fGgaEstsBnaf"
      }
    },
    {
      "cell_type": "markdown",
      "source": [
        "### 5. Data Transformation"
      ],
      "metadata": {
        "id": "TNVZ9zx19K6k"
      }
    },
    {
      "cell_type": "markdown",
      "source": [
        "#### Do you think that your data needs to be transformed? If yes, which transformation have you used. Explain Why?"
      ],
      "metadata": {
        "id": "nqoHp30x9hH9"
      }
    },
    {
      "cell_type": "code",
      "source": [
        "# Transform Your data\n",
        "x = ratings_with_name.groupby('User-ID').count()['Book-Rating'] > 200\n",
        "high_value_users = x[x].index"
      ],
      "metadata": {
        "id": "I6quWQ1T9rtH"
      },
      "execution_count": null,
      "outputs": []
    },
    {
      "cell_type": "code",
      "source": [
        "filtered_rating = ratings_with_name[ratings_with_name['User-ID'].isin(high_value_users)]"
      ],
      "metadata": {
        "id": "R5arOwiwMP37"
      },
      "execution_count": null,
      "outputs": []
    },
    {
      "cell_type": "code",
      "source": [
        "y = filtered_rating.groupby('Book-Title').count()['Book-Rating']>=50\n",
        "famous_books = y[y].index"
      ],
      "metadata": {
        "id": "efk3UHHpMPpq"
      },
      "execution_count": null,
      "outputs": []
    },
    {
      "cell_type": "code",
      "source": [
        "final_ratings = filtered_rating[filtered_rating['Book-Title'].isin(famous_books)]"
      ],
      "metadata": {
        "id": "_Xw0irNXMPXA"
      },
      "execution_count": null,
      "outputs": []
    },
    {
      "cell_type": "code",
      "source": [
        "pt = final_ratings.pivot_table(index='Book-Title',columns='User-ID',values='Book-Rating')"
      ],
      "metadata": {
        "id": "Y_Xdx-GLMPTW"
      },
      "execution_count": null,
      "outputs": []
    },
    {
      "cell_type": "code",
      "source": [
        "pt.fillna(0,inplace=True)"
      ],
      "metadata": {
        "id": "AAoCavyXMPPt"
      },
      "execution_count": null,
      "outputs": []
    },
    {
      "cell_type": "code",
      "source": [
        "pt"
      ],
      "metadata": {
        "id": "V5xyeGkNNPMN"
      },
      "execution_count": null,
      "outputs": []
    },
    {
      "cell_type": "markdown",
      "source": [
        "# **Item-Based Collaborative Filtering Recommendation System**"
      ],
      "metadata": {
        "id": "QpwM2poVIOEH"
      }
    },
    {
      "cell_type": "code",
      "source": [
        "from sklearn.metrics.pairwise import cosine_similarity\n",
        "similarity_scores = cosine_similarity(pt)\n",
        "\n",
        "similarity_scores.shape"
      ],
      "metadata": {
        "id": "WlHVhNgVNO76"
      },
      "execution_count": null,
      "outputs": []
    },
    {
      "cell_type": "code",
      "source": [
        "# for interactive plot\n",
        "from ipywidgets import interact, widgets\n",
        "\n",
        "@interact(book_name=widgets.Dropdown(options=list(pt.index), description='Book Name'))\n",
        "def recommend(book_name):\n",
        "    # index fetch\n",
        "    index = np.where(pt.index == book_name)[0][0]\n",
        "    similar_items = sorted(list(enumerate(similarity_scores[index])), key=lambda x: x[1], reverse=True)[1:5]\n",
        "\n",
        "    data = []\n",
        "    for i in similar_items:\n",
        "        item = []\n",
        "        temp_df = books[books['Book-Title'] == pt.index[i[0]]]\n",
        "        item.extend(list(temp_df.drop_duplicates('Book-Title')['Book-Title'].values))\n",
        "        item.extend(list(temp_df.drop_duplicates('Book-Title')['Book-Author'].values))\n",
        "        item.extend(list(temp_df.drop_duplicates('Book-Title')['Image-URL-M'].values))\n",
        "\n",
        "        data.append(item)\n",
        "\n",
        "    return data\n"
      ],
      "metadata": {
        "id": "ipj6QKuSHJX3"
      },
      "execution_count": null,
      "outputs": []
    },
    {
      "cell_type": "markdown",
      "source": [
        "The provided code implements an Item-Based Collaborative Filtering Recommendation System tailored for a book recommendation project. This recommendation system relies on the concept that users who enjoyed similar books in the past are likely to have comparable preferences in the future. Here's a step-by-step breakdown of how the system operates:\n",
        "\n",
        "1. **Interactive Plotting:** The system incorporates the `ipywidgets` library to create an interactive plot. Users can select a book from a dropdown list (`book_name`). The system then generates recommendations based on the chosen book.\n",
        "\n",
        "2. **Similarity Scores Calculation:** To determine recommendations, the system calculates similarity scores between the selected book and all other books in the dataset. This is achieved through a collaborative filtering approach, which assesses user preferences for different books.\n",
        "\n",
        "3. **Sorting Similar Items:** The calculated similarity scores are used to rank books in descending order. The most similar items are listed first.\n",
        "\n",
        "4. **Displaying Recommendations:** The system showcases the top 4 books with the highest similarity scores, excluding the selected book itself. For each recommended book, details like title, author, and an image URL are provided.\n",
        "\n",
        "5. **User Interaction:** Users can dynamically explore recommendations for various books, gaining insights into items that share similar user preferences.\n",
        "\n",
        "This collaborative filtering recommendation system is instrumental in suggesting books to users based on the preferences and behaviors of similar readers. It elevates the user experience by delivering personalized recommendations, fostering engagement, and enhancing overall satisfaction in the realm of book choices."
      ],
      "metadata": {
        "id": "I-CYcyXRPoou"
      }
    },
    {
      "cell_type": "markdown",
      "source": [
        "# **DataPreprocessing for ML Model**"
      ],
      "metadata": {
        "id": "aWHjghIRPyzE"
      }
    },
    {
      "cell_type": "code",
      "source": [
        "def num_to_obj(x):\n",
        "    if x >0 and x <=1:\n",
        "        return \"between 0 and 1\"\n",
        "    if x > 1 and x <= 2:\n",
        "        return \"between 1 and 2\"\n",
        "    if x > 2 and x <=3:\n",
        "        return \"between 2 and 3\"\n",
        "    if x >3 and x<=4:\n",
        "        return \"between 3 and 4\"\n",
        "    if x >4 and x<=5:\n",
        "        return \"between 4 and 5\"\n",
        "popular_df['rating_obj'] = popular_df['avg_rating'].apply(num_to_obj)"
      ],
      "metadata": {
        "id": "SCrip0kLJVrO"
      },
      "execution_count": null,
      "outputs": []
    },
    {
      "cell_type": "code",
      "source": [
        "popular_df['rating_obj'].value_counts()"
      ],
      "metadata": {
        "id": "VFZt4z7_JzwD"
      },
      "execution_count": null,
      "outputs": []
    },
    {
      "cell_type": "code",
      "source": [
        "rating_df = pd.get_dummies(popular_df['rating_obj'])\n",
        "rating_df.head()"
      ],
      "metadata": {
        "id": "H7zTKDHeJzrz"
      },
      "execution_count": null,
      "outputs": []
    },
    {
      "cell_type": "code",
      "source": [
        "features = pd.concat([rating_df, popular_df['avg_rating'],\n",
        "                     popular_df['Book-Title']], axis = 1)\n",
        "features.set_index('Book-Title', inplace= True)\n",
        "features.head()"
      ],
      "metadata": {
        "id": "bpxvQmxkJ-gS"
      },
      "execution_count": null,
      "outputs": []
    },
    {
      "cell_type": "markdown",
      "source": [
        "## ***7. ML Model Implementation***"
      ],
      "metadata": {
        "id": "VfCC591jGiD4"
      }
    },
    {
      "cell_type": "markdown",
      "source": [
        "### ML Model - 1"
      ],
      "metadata": {
        "id": "OB4l2ZhMeS1U"
      }
    },
    {
      "cell_type": "code",
      "source": [
        "from sklearn.preprocessing import MinMaxScaler\n",
        "from sklearn.neighbors import NearestNeighbors\n",
        "\n",
        "# Selecting relevant features for recommendation\n",
        "features = popular_df[['num_ratings', 'avg_rating']]\n",
        "\n",
        "# Scaling the features\n",
        "scaler = MinMaxScaler()\n",
        "features_scaled = scaler.fit_transform(features)\n",
        "\n",
        "# Fit the Nearest Neighbors model\n",
        "model = NearestNeighbors(n_neighbors=5, algorithm='ball_tree', metric='euclidean')\n",
        "model.fit(features_scaled)\n",
        "\n",
        "@interact\n",
        "def recommend_books(book_name=list(popular_df['Book-Title'].unique())):\n",
        "    # Find the index of the selected book\n",
        "    book_index = popular_df[popular_df['Book-Title'] == book_name].index[0]\n",
        "\n",
        "    # Get neighbors for the selected book\n",
        "    _, neighbor_indices = model.kneighbors(features_scaled[book_index].reshape(1, -1))\n",
        "\n",
        "    # Get recommended books\n",
        "    recommended_books = popular_df.iloc[neighbor_indices[0]][['Book-Title', 'Book-Author', 'Image-URL-M', 'num_ratings', 'avg_rating']]\n",
        "\n",
        "    return recommended_books"
      ],
      "metadata": {
        "id": "pMq1xmnYFtrm"
      },
      "execution_count": null,
      "outputs": []
    },
    {
      "cell_type": "markdown",
      "source": [
        "### **Explain the model which you have used and the feature importance using any model explainability tool?**"
      ],
      "metadata": {
        "id": "HvGl1hHyA_VK"
      }
    },
    {
      "cell_type": "markdown",
      "source": [
        "The above model provided implements a book recommendation system using a Nearest Neighbors model. Here's a breakdown of the steps involved:\n",
        "\n",
        "1. **Feature Selection:** Relevant features for recommendation, namely 'num_ratings' (number of ratings) and 'avg_rating' (average rating), are selected from the `popular_df` DataFrame. These features capture both the popularity and average user ratings of books.\n",
        "\n",
        "2. **Feature Scaling:** To ensure that both 'num_ratings' and 'avg_rating' contribute equally to the distance calculations in the Nearest Neighbors model, the features are scaled using Min-Max scaling. This transformation scales the features to a specific range (usually between 0 and 1).\n",
        "\n",
        "3. **Nearest Neighbors Model:** The `NearestNeighbors` model is employed for finding the k-neighbors of a point (book) in the scaled feature space. The 'ball_tree' algorithm is used for efficient nearest neighbors search, and the Euclidean distance metric is chosen to measure the proximity between points.\n",
        "\n",
        "4. **Interactive Recommendation:** The `@interact` decorator from the `ipywidgets` library enables users to interactively choose a book from the provided dropdown list ('book_name'). The selected book's index is then used to identify its neighbors in the feature space.\n",
        "\n",
        "5. **Recommendation Generation:** The model identifies the k-nearest neighbors of the selected book based on the scaled 'num_ratings' and 'avg_rating'. The recommended books are retrieved from the `popular_df` DataFrame, including details like title, author, image URL, number of ratings, and average rating.\n"
      ],
      "metadata": {
        "id": "YnvVTiIxBL-C"
      }
    },
    {
      "cell_type": "markdown",
      "source": [
        "## ***8.*** ***Future Work (Optional)***"
      ],
      "metadata": {
        "id": "EyNgTHvd2WFk"
      }
    },
    {
      "cell_type": "markdown",
      "source": [
        "### 1. Save the best performing ml model in a pickle file or joblib file format for deployment process.\n"
      ],
      "metadata": {
        "id": "KH5McJBi2d8v"
      }
    },
    {
      "cell_type": "code",
      "source": [
        "# Save the File"
      ],
      "metadata": {
        "id": "bQIANRl32f4J"
      },
      "execution_count": null,
      "outputs": []
    },
    {
      "cell_type": "markdown",
      "source": [
        "### 2. Again Load the saved model file and try to predict unseen data for a sanity check.\n"
      ],
      "metadata": {
        "id": "iW_Lq9qf2h6X"
      }
    },
    {
      "cell_type": "code",
      "source": [
        "# Load the File and predict unseen data."
      ],
      "metadata": {
        "id": "oEXk9ydD2nVC"
      },
      "execution_count": null,
      "outputs": []
    },
    {
      "cell_type": "markdown",
      "source": [
        "### ***Congrats! Your model is successfully created and ready for deployment on a live server for a real user interaction !!!***"
      ],
      "metadata": {
        "id": "-Kee-DAl2viO"
      }
    },
    {
      "cell_type": "markdown",
      "source": [
        "# **Conclusion**"
      ],
      "metadata": {
        "id": "gCX9965dhzqZ"
      }
    },
    {
      "cell_type": "markdown",
      "source": [
        "In conclusion, the implemented book recommendation system, utilizing a Nearest Neighbors model, successfully provides users with personalized book suggestions based on a combination of popularity metrics and average ratings. The system's interactivity empowers users to select a book of interest and receive dynamically generated recommendations, enhancing their exploration of the digital library.\n",
        "\n",
        "Recommendation systems are vital for user engagement, and this project lays a foundation for further improvements. To enhance the system's performance, incorporating additional factors such as user demographics, reading history, or genre preferences could provide more accurate and tailored recommendations. This expansion aligns with business goals to offer a comprehensive and personalized user experience.\n",
        "\n",
        "Continuous monitoring of the recommendation system's performance using relevant metrics, such as click-through rates or user satisfaction surveys, will be crucial. Feedback from users can guide iterative enhancements, ensuring that the recommendations align with evolving user preferences.\n",
        "\n",
        "Looking ahead, exploring advanced recommendation algorithms, machine learning techniques, and incorporating real-time user feedback can contribute to a more sophisticated and effective recommendation engine. As the system matures, collaboration with data scientists and user experience experts will be valuable for optimizing algorithms and refining the user interface.\n",
        "\n",
        "In summary, while the current book recommendation system provides valuable insights into user preferences, there is substantial room for growth. By considering business objectives, incorporating user feedback, and staying abreast of emerging technologies, the recommendation system can evolve into a powerful tool that not only meets but exceeds user expectations, ultimately contributing to positive business impact and sustained user engagement."
      ],
      "metadata": {
        "id": "Fjb1IsQkh3yE"
      }
    },
    {
      "cell_type": "markdown",
      "source": [
        "### ***Hurrah! You have successfully completed your Machine Learning Capstone Project !!!***"
      ],
      "metadata": {
        "id": "gIfDvo9L0UH2"
      }
    }
  ]
}